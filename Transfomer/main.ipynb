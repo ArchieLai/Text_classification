{
 "cells": [
  {
   "cell_type": "code",
   "execution_count": 12,
   "metadata": {},
   "outputs": [],
   "source": [
    "import matplotlib.pyplot as plt\n",
    "import numpy as np\n",
    "import math\n",
    "import torch\n",
    "import torchinfo\n",
    "from sklearn.model_selection import train_test_split\n",
    "from torch import nn, Tensor\n",
    "from torch.nn import TransformerEncoder, TransformerEncoderLayer\n",
    "from torch.utils.data import DataLoader\n",
    "from torchtext.data.utils import get_tokenizer\n",
    "import torchtext.transforms as T\n",
    "from torchtext.vocab import build_vocab_from_iterator\n",
    "from tqdm import tqdm\n",
    "from torch.nn import functional as F\n",
    "from sklearn.metrics import accuracy_score, precision_score, recall_score, f1_score\n",
    "import gensim.downloader\n",
    "import sys \n",
    "sys.path.append('..')\n",
    "from data.loadData import MovieReviews"
   ]
  },
  {
   "cell_type": "code",
   "execution_count": 5,
   "metadata": {},
   "outputs": [
    {
     "name": "stdout",
     "output_type": "stream",
     "text": [
      "2.1.1+cu121\n",
      "cuda\n"
     ]
    }
   ],
   "source": [
    "# setting hyperparameters\n",
    "batch_size = 128\n",
    "valid_size=0.3 # validation + testing\n",
    "test_size=0.5 # tesing / (testing+validation)\n",
    "learning_rate = 0.0001\n",
    "weight_decay = 0.0001\n",
    "epoch = 20\n",
    "seed = 42\n",
    "if torch.cuda.is_available():\n",
    "    device = torch.device('cuda')\n",
    "else:\n",
    "    device=torch.device('cpu')\n",
    "\n",
    "tokenizer = get_tokenizer(\"basic_english\")\n",
    "glove_vectors = gensim.downloader.load('glove-twitter-25')\n",
    "unknown_vector = torch.randn(glove_vectors.vector_size)\n",
    "max_length = 40\n",
    "embed_dim = 25\n",
    "label_size = 2\n",
    "min_frequency = 5\n",
    "unk_token = '<unk>'\n",
    "bos_token = '<bos>'\n",
    "eos_token = '<eos>'\n",
    "pad_token= '<pad>'\n",
    "unk_idx = 0\n",
    "bos_idx = 1\n",
    "eos_idx = 2\n",
    "padding_idx = 3\n",
    "\n",
    "print(torch.__version__)\n",
    "print(device)"
   ]
  },
  {
   "cell_type": "code",
   "execution_count": 106,
   "metadata": {},
   "outputs": [],
   "source": [
    "# data loading\n",
    "df = MovieReviews()\n",
    "train_data, temp_data = train_test_split(df, test_size=valid_size, random_state=seed)\n",
    "val_data, test_data = train_test_split(temp_data, test_size=test_size, random_state=seed)"
   ]
  },
  {
   "cell_type": "code",
   "execution_count": 107,
   "metadata": {},
   "outputs": [],
   "source": [
    "vocab = build_vocab_from_iterator(\n",
    "    train_data[\"text\"].str.split(),\n",
    "    min_freq=min_frequency,\n",
    "    specials=[unk_token, eos_token, bos_token, pad_token],\n",
    "    #  Special symbols to add. The order of supplied tokens will be preserved.\n",
    ")\n",
    "vocab.set_default_index(vocab[unk_token])"
   ]
  },
  {
   "cell_type": "code",
   "execution_count": 108,
   "metadata": {},
   "outputs": [],
   "source": [
    "text_transform = T.Sequential(                  # chaining multiple text transformations\n",
    "    T.VocabTransform(vocab),                    # convert input batch of tokens into corresponding token ids\n",
    "    T.Truncate(max_length - 2),                 # Truncate input sequence\n",
    "    T.AddToken(token=bos_idx, begin=True),      # Add token to beginning or end of sequence\n",
    "    T.AddToken(token=eos_idx, begin=False),\n",
    "    T.ToTensor(),                               # Convert input to torch tensor\n",
    "    T.PadTransform(max_length, padding_idx),    # Pad tensor to a fixed length with given padding value.\n",
    ")\n",
    "\n",
    "def collate_fn(batch: np.ndarray):\n",
    "    text_placeholder, label_placeholder = [], []\n",
    "\n",
    "    for text, label in batch:\n",
    "        text = tokenizer(text)\n",
    "        text = text_transform(text) # shape: [max_len, embed_dim]\n",
    "        text_placeholder.append(text)\n",
    "        label_placeholder.append(label)\n",
    "\n",
    "    return torch.stack(text_placeholder), torch.Tensor(label_placeholder)"
   ]
  },
  {
   "cell_type": "code",
   "execution_count": 109,
   "metadata": {},
   "outputs": [],
   "source": [
    "# DataLoader\n",
    "train_iter = DataLoader(\n",
    "    train_data.to_numpy(),\n",
    "    batch_size=batch_size,\n",
    "    collate_fn=collate_fn,\n",
    "    shuffle=True,\n",
    "    drop_last=True,\n",
    ")\n",
    "test_iter = DataLoader(\n",
    "    test_data.to_numpy(),\n",
    "    batch_size=batch_size,\n",
    "    collate_fn=collate_fn,\n",
    "    shuffle=False           #　don't shuffle to check answer with original data\n",
    ")\n",
    "val_iter = DataLoader(\n",
    "    val_data.to_numpy(),\n",
    "    batch_size=batch_size,\n",
    "    collate_fn=collate_fn,\n",
    "    shuffle=True\n",
    ")"
   ]
  },
  {
   "cell_type": "code",
   "execution_count": 110,
   "metadata": {},
   "outputs": [],
   "source": [
    "vocab_to_index = vocab.get_stoi()\n",
    "vocab_size = len(vocab_to_index)\n",
    "embeds = torch.randn(vocab_size, embed_dim)\n",
    "\n",
    "for word, index in vocab_to_index.items():\n",
    "    if word in glove_vectors:\n",
    "        embeds[index] = torch.tensor(glove_vectors[word])"
   ]
  },
  {
   "cell_type": "code",
   "execution_count": 112,
   "metadata": {},
   "outputs": [],
   "source": [
    "# model\n",
    "class PositionalEncoding(nn.Module):\n",
    "    def __init__(self, d_model: int, dropout: float = 0.1, max_len: int = 5000):\n",
    "        super().__init__()\n",
    "        self.dropout = nn.Dropout(p=dropout)\n",
    "\n",
    "        position = torch.arange(max_len).unsqueeze(1)\n",
    "        div_term = torch.exp(torch.arange(0, d_model, 2) * (-math.log(10000.0) / d_model))\n",
    "        pe = torch.zeros(max_len, 1, d_model)\n",
    "        pe[:, 0, 0::2] = torch.sin(position * div_term)\n",
    "        pe[:, 0, 1::2] = torch.cos(position * div_term)\n",
    "        self.register_buffer('pe', pe)\n",
    "\n",
    "    def forward(self, x: Tensor) -> Tensor:\n",
    "        \"\"\"\n",
    "        Arguments:\n",
    "            x: Tensor, shape ``[seq_len, batch_size, embedding_dim]``\n",
    "        \"\"\"\n",
    "        x = x + self.pe[:x.size(0)]\n",
    "        return self.dropout(x)\n",
    "\n",
    "\n",
    "class TransformerClassifier(nn.Module):\n",
    "    def __init__(\n",
    "        self,\n",
    "        embed_dim: int,\n",
    "        label_size: int,\n",
    "        num_encoder_layers: int,\n",
    "        num_attention_heads: int,\n",
    "        proj_dim: int,\n",
    "    ):\n",
    "        super(TransformerClassifier, self).__init__()\n",
    "        self.embedding = nn.Embedding.from_pretrained(embeds, freeze=False)\n",
    "        self.proj = nn.Linear(embed_dim, proj_dim)\n",
    "        self.pos_encoder = PositionalEncoding(proj_dim, dropout=0.2)\n",
    "        encoder_layer = TransformerEncoderLayer(proj_dim, num_attention_heads)\n",
    "        self.transformer_encoder = TransformerEncoder(encoder_layer, num_encoder_layers)\n",
    "        self.fc = nn.Linear(proj_dim, label_size)\n",
    "        self.dropout = nn.Dropout(p=0.5)\n",
    "\n",
    "    def forward(self, x: torch.Tensor) -> torch.Tensor:\n",
    "        # Batch_size, Seq_len\n",
    "        x = self.embedding(x)           # Batch_size, Seq_len, Embed_dim\n",
    "        x = self.proj(x)                # Batch_size, Seq_len, Proj_dim\n",
    "        x = self.pos_encoder(x)         # Batch_size, Seq_len, Proj_dim\n",
    "        x = self.transformer_encoder(x) # Batch_size, Seq_len, Proj_dim\n",
    "                                        # Take the output from the final encoder layer\n",
    "        x = x[:, -1, :]                 # Batch_size, Proj_dim\n",
    "        x = self.dropout(x)             # Batch_size, Proj_dim\n",
    "        y = self.fc(x)                  # Batch_size, label_size  \n",
    "        return y"
   ]
  },
  {
   "cell_type": "code",
   "execution_count": 113,
   "metadata": {},
   "outputs": [
    {
     "name": "stdout",
     "output_type": "stream",
     "text": [
      "==========================================================================================\n",
      "Layer (type:depth-idx)                                            Param #\n",
      "==========================================================================================\n",
      "TransformerClassifier                                             --\n",
      "├─Embedding: 1-1                                                  83,050\n",
      "├─Linear: 1-2                                                     1,664\n",
      "├─PositionalEncoding: 1-3                                         --\n",
      "│    └─Dropout: 2-1                                               --\n",
      "├─TransformerEncoder: 1-4                                         --\n",
      "│    └─ModuleList: 2-2                                            --\n",
      "│    │    └─TransformerEncoderLayer: 3-1                          281,152\n",
      "│    │    └─TransformerEncoderLayer: 3-2                          281,152\n",
      "│    │    └─TransformerEncoderLayer: 3-3                          281,152\n",
      "│    │    └─TransformerEncoderLayer: 3-4                          281,152\n",
      "│    │    └─TransformerEncoderLayer: 3-5                          281,152\n",
      "│    │    └─TransformerEncoderLayer: 3-6                          281,152\n",
      "│    │    └─TransformerEncoderLayer: 3-7                          281,152\n",
      "│    │    └─TransformerEncoderLayer: 3-8                          281,152\n",
      "│    │    └─TransformerEncoderLayer: 3-9                          281,152\n",
      "│    │    └─TransformerEncoderLayer: 3-10                         281,152\n",
      "│    │    └─TransformerEncoderLayer: 3-11                         281,152\n",
      "│    │    └─TransformerEncoderLayer: 3-12                         281,152\n",
      "├─Linear: 1-5                                                     130\n",
      "├─Dropout: 1-6                                                    --\n",
      "==========================================================================================\n",
      "Total params: 3,458,668\n",
      "Trainable params: 3,458,668\n",
      "Non-trainable params: 0\n",
      "==========================================================================================\n"
     ]
    }
   ],
   "source": [
    "model = TransformerClassifier(embed_dim=embed_dim, label_size=label_size, num_encoder_layers=12, num_attention_heads=16, proj_dim=64).to(device)\n",
    "print(torchinfo.summary(model))"
   ]
  },
  {
   "cell_type": "markdown",
   "metadata": {},
   "source": [
    "train"
   ]
  },
  {
   "cell_type": "code",
   "execution_count": 114,
   "metadata": {},
   "outputs": [],
   "source": [
    "criterion = nn.CrossEntropyLoss()\n",
    "optimizer = torch.optim.Adam(model.parameters(), lr=learning_rate, weight_decay=weight_decay)"
   ]
  },
  {
   "cell_type": "code",
   "execution_count": 115,
   "metadata": {},
   "outputs": [
    {
     "name": "stderr",
     "output_type": "stream",
     "text": [
      "100%|██████████| 58/58 [00:08<00:00,  7.15it/s]\n"
     ]
    },
    {
     "name": "stdout",
     "output_type": "stream",
     "text": [
      "Epoch [1/20], Training_Loss: 0.6772\n",
      "Validation loss: 0.6935\n"
     ]
    },
    {
     "name": "stderr",
     "output_type": "stream",
     "text": [
      "100%|██████████| 58/58 [00:06<00:00,  8.49it/s]\n"
     ]
    },
    {
     "name": "stdout",
     "output_type": "stream",
     "text": [
      "Epoch [2/20], Training_Loss: 0.6928\n",
      "Validation loss: 0.6967\n"
     ]
    },
    {
     "name": "stderr",
     "output_type": "stream",
     "text": [
      "100%|██████████| 58/58 [00:06<00:00,  8.45it/s]\n"
     ]
    },
    {
     "name": "stdout",
     "output_type": "stream",
     "text": [
      "Epoch [3/20], Training_Loss: 0.6934\n",
      "Validation loss: 0.6943\n"
     ]
    },
    {
     "name": "stderr",
     "output_type": "stream",
     "text": [
      "100%|██████████| 58/58 [00:06<00:00,  8.35it/s]\n"
     ]
    },
    {
     "name": "stdout",
     "output_type": "stream",
     "text": [
      "Epoch [4/20], Training_Loss: 0.6890\n",
      "Validation loss: 0.6944\n"
     ]
    },
    {
     "name": "stderr",
     "output_type": "stream",
     "text": [
      "100%|██████████| 58/58 [00:07<00:00,  7.71it/s]\n"
     ]
    },
    {
     "name": "stdout",
     "output_type": "stream",
     "text": [
      "Epoch [5/20], Training_Loss: 0.6916\n",
      "Validation loss: 0.6954\n"
     ]
    },
    {
     "name": "stderr",
     "output_type": "stream",
     "text": [
      "100%|██████████| 58/58 [00:07<00:00,  7.77it/s]\n"
     ]
    },
    {
     "name": "stdout",
     "output_type": "stream",
     "text": [
      "Epoch [6/20], Training_Loss: 0.6913\n",
      "Validation loss: 0.6946\n"
     ]
    },
    {
     "name": "stderr",
     "output_type": "stream",
     "text": [
      "100%|██████████| 58/58 [00:07<00:00,  7.64it/s]\n"
     ]
    },
    {
     "name": "stdout",
     "output_type": "stream",
     "text": [
      "Epoch [7/20], Training_Loss: 0.6937\n",
      "Validation loss: 0.6932\n"
     ]
    },
    {
     "name": "stderr",
     "output_type": "stream",
     "text": [
      "100%|██████████| 58/58 [00:07<00:00,  7.66it/s]\n"
     ]
    },
    {
     "name": "stdout",
     "output_type": "stream",
     "text": [
      "Epoch [8/20], Training_Loss: 0.6932\n",
      "Validation loss: 0.6929\n"
     ]
    },
    {
     "name": "stderr",
     "output_type": "stream",
     "text": [
      "100%|██████████| 58/58 [00:07<00:00,  7.58it/s]\n"
     ]
    },
    {
     "name": "stdout",
     "output_type": "stream",
     "text": [
      "Epoch [9/20], Training_Loss: 0.6923\n",
      "Validation loss: 0.6931\n"
     ]
    },
    {
     "name": "stderr",
     "output_type": "stream",
     "text": [
      "100%|██████████| 58/58 [00:07<00:00,  7.53it/s]\n"
     ]
    },
    {
     "name": "stdout",
     "output_type": "stream",
     "text": [
      "Epoch [10/20], Training_Loss: 0.6907\n",
      "Validation loss: 0.6931\n"
     ]
    },
    {
     "name": "stderr",
     "output_type": "stream",
     "text": [
      "100%|██████████| 58/58 [00:07<00:00,  7.53it/s]\n"
     ]
    },
    {
     "name": "stdout",
     "output_type": "stream",
     "text": [
      "Epoch [11/20], Training_Loss: 0.6940\n",
      "Validation loss: 0.6955\n"
     ]
    },
    {
     "name": "stderr",
     "output_type": "stream",
     "text": [
      "100%|██████████| 58/58 [00:07<00:00,  7.57it/s]\n"
     ]
    },
    {
     "name": "stdout",
     "output_type": "stream",
     "text": [
      "Epoch [12/20], Training_Loss: 0.6938\n",
      "Validation loss: 0.6930\n"
     ]
    },
    {
     "name": "stderr",
     "output_type": "stream",
     "text": [
      "100%|██████████| 58/58 [00:07<00:00,  7.67it/s]\n"
     ]
    },
    {
     "name": "stdout",
     "output_type": "stream",
     "text": [
      "Epoch [13/20], Training_Loss: 0.6938\n",
      "Validation loss: 0.6930\n"
     ]
    },
    {
     "name": "stderr",
     "output_type": "stream",
     "text": [
      "100%|██████████| 58/58 [00:07<00:00,  7.61it/s]\n"
     ]
    },
    {
     "name": "stdout",
     "output_type": "stream",
     "text": [
      "Epoch [14/20], Training_Loss: 0.6953\n",
      "Validation loss: 0.6980\n"
     ]
    },
    {
     "name": "stderr",
     "output_type": "stream",
     "text": [
      "100%|██████████| 58/58 [00:07<00:00,  7.65it/s]\n"
     ]
    },
    {
     "name": "stdout",
     "output_type": "stream",
     "text": [
      "Epoch [15/20], Training_Loss: 0.6921\n",
      "Validation loss: 0.6937\n"
     ]
    },
    {
     "name": "stderr",
     "output_type": "stream",
     "text": [
      "100%|██████████| 58/58 [00:07<00:00,  7.60it/s]\n"
     ]
    },
    {
     "name": "stdout",
     "output_type": "stream",
     "text": [
      "Epoch [16/20], Training_Loss: 0.6931\n",
      "Validation loss: 0.6929\n"
     ]
    },
    {
     "name": "stderr",
     "output_type": "stream",
     "text": [
      "100%|██████████| 58/58 [00:07<00:00,  7.75it/s]\n"
     ]
    },
    {
     "name": "stdout",
     "output_type": "stream",
     "text": [
      "Epoch [17/20], Training_Loss: 0.6915\n",
      "Validation loss: 0.6954\n"
     ]
    },
    {
     "name": "stderr",
     "output_type": "stream",
     "text": [
      "100%|██████████| 58/58 [00:07<00:00,  7.75it/s]\n"
     ]
    },
    {
     "name": "stdout",
     "output_type": "stream",
     "text": [
      "Epoch [18/20], Training_Loss: 0.6937\n",
      "Validation loss: 0.6935\n"
     ]
    },
    {
     "name": "stderr",
     "output_type": "stream",
     "text": [
      "100%|██████████| 58/58 [00:07<00:00,  7.77it/s]\n"
     ]
    },
    {
     "name": "stdout",
     "output_type": "stream",
     "text": [
      "Epoch [19/20], Training_Loss: 0.6948\n",
      "Validation loss: 0.6959\n"
     ]
    },
    {
     "name": "stderr",
     "output_type": "stream",
     "text": [
      "100%|██████████| 58/58 [00:07<00:00,  7.73it/s]\n"
     ]
    },
    {
     "name": "stdout",
     "output_type": "stream",
     "text": [
      "Epoch [20/20], Training_Loss: 0.6927\n",
      "Validation loss: 0.6931\n"
     ]
    }
   ],
   "source": [
    "model.train()\n",
    "training_loss = []\n",
    "valid_loss = []\n",
    "training_accuracy = []\n",
    "valid_accuracy = []\n",
    "\n",
    "for e in range(epoch):\n",
    "    correct = 0 # for train_accuracy\n",
    "    for text, label in tqdm(train_iter):\n",
    "        optimizer.zero_grad()\n",
    "        text = text.to(device)\n",
    "        label = label.to(device)\n",
    "        output = model(text)\n",
    "        loss = criterion(output, label.long())\n",
    "        loss.backward()\n",
    "        optimizer.step()\n",
    "\n",
    "        # Calculate training accuracy\n",
    "        preds = torch.argmax(output, dim=1)\n",
    "        correct += (preds == label).sum().item()\n",
    "        \n",
    "    training_accuracy.append(correct / len(train_iter.dataset))\n",
    "    training_loss.append(loss.item())\n",
    "    print(f'Epoch [{e+1}/{epoch}], Training_Loss: {loss.item():.4f}')\n",
    "\n",
    "    # Validation\n",
    "    num_correct = 0 # for valid_accuracy\n",
    "    model.eval()\n",
    "    val_loss = 0.0\n",
    "    for x, y in val_iter:\n",
    "        y = y.to(device)\n",
    "        preds = model(x.to(device))\n",
    "        loss = criterion(preds, y.long().to(device))\n",
    "        val_loss += loss.item()\n",
    "        num_correct += (torch.argmax(preds, dim=1) == y).sum().item()\n",
    "    \n",
    "    valid_accuracy.append(num_correct / len(val_iter.dataset))\n",
    "    val_loss /= len(val_iter)\n",
    "    valid_loss.append(val_loss)\n",
    "    print(f'Validation loss: {val_loss:.4f}')"
   ]
  },
  {
   "cell_type": "code",
   "execution_count": 96,
   "metadata": {},
   "outputs": [
    {
     "data": {
      "text/plain": [
       "[<matplotlib.lines.Line2D at 0x1b8d2a8de10>,\n",
       " <matplotlib.lines.Line2D at 0x1b8d2a8de40>]"
      ]
     },
     "execution_count": 96,
     "metadata": {},
     "output_type": "execute_result"
    },
    {
     "data": {
      "image/png": "[encoded data removed]",
      "text/plain": [
       "<Figure size 640x480 with 1 Axes>"
      ]
     },
     "metadata": {},
     "output_type": "display_data"
    }
   ],
   "source": [
    "plt.plot(training_loss, 'b', valid_loss, 'r')"
   ]
  },
  {
   "cell_type": "code",
   "execution_count": 97,
   "metadata": {},
   "outputs": [
    {
     "data": {
      "text/plain": [
       "[<matplotlib.lines.Line2D at 0x1b8d28e8040>,\n",
       " <matplotlib.lines.Line2D at 0x1b8d28e8070>]"
      ]
     },
     "execution_count": 97,
     "metadata": {},
     "output_type": "execute_result"
    },
    {
     "data": {
      "image/png": "[encoded data removed]",
      "text/plain": [
       "<Figure size 640x480 with 1 Axes>"
      ]
     },
     "metadata": {},
     "output_type": "display_data"
    }
   ],
   "source": [
    "plt.plot(training_accuracy, 'b', valid_accuracy, 'r')"
   ]
  },
  {
   "cell_type": "code",
   "execution_count": 116,
   "metadata": {},
   "outputs": [
    {
     "name": "stderr",
     "output_type": "stream",
     "text": [
      "100%|██████████| 13/13 [00:00<00:00, 21.08it/s]"
     ]
    },
    {
     "name": "stdout",
     "output_type": "stream",
     "text": [
      "Test Accuracy: 50.00%\n",
      "Test Precision: 100.00%\n",
      "Test Recall: 50.00%\n",
      "Test F1 Score: 66.67%\n"
     ]
    },
    {
     "name": "stderr",
     "output_type": "stream",
     "text": [
      "\n"
     ]
    }
   ],
   "source": [
    "model.eval()\n",
    "preds = []\n",
    "labels = []\n",
    "with torch.no_grad():\n",
    "    running_hit = 0.0\n",
    "\n",
    "    for text, label in tqdm(test_iter):\n",
    "        text = text.to(device)\n",
    "        label = label.to(device)\n",
    "\n",
    "        output = model(text)\n",
    "        pred = output.argmax(dim=1)\n",
    "        labels.append(label)\n",
    "        preds.append(pred)\n",
    "    preds_cat = torch.cat(preds).to('cpu')\n",
    "    labels_cat = torch.cat(labels).to('cpu')\n",
    "    \n",
    "    accuracy = accuracy_score(preds_cat, labels_cat)\n",
    "    precision = precision_score(preds_cat, labels_cat)\n",
    "    recall = recall_score(preds_cat, labels_cat)\n",
    "    f1 = f1_score(preds_cat, labels_cat)\n",
    "    print(f'Test Accuracy: {accuracy * 100:.2f}%')\n",
    "    print(f'Test Precision: {precision * 100:.2f}%')\n",
    "    print(f'Test Recall: {recall * 100:.2f}%')\n",
    "    print(f'Test F1 Score: {f1 * 100:.2f}%')"
   ]
  },
  {
   "cell_type": "code",
   "execution_count": 94,
   "metadata": {},
   "outputs": [],
   "source": [
    "# Save the model if needed\n",
    "# torch.save(model.state_dict(), 'TextCNN.pth')"
   ]
  },
  {
   "cell_type": "code",
   "execution_count": 95,
   "metadata": {},
   "outputs": [],
   "source": [
    "# Instantiate the model\n",
    "# model = TextCNN(vocab_size, 32, label_size, padding_idx=padding_idx)\n",
    "\n",
    "# Load the saved state dictionary\n",
    "# model_path = 'TextCNN.pth'\n",
    "# model_state_dict = torch.load(model_path)\n",
    "\n",
    "# Load the state dictionary into the model\n",
    "# model.load_state_dict(model_state_dict)"
   ]
  }
 ],
 "metadata": {
  "kernelspec": {
   "display_name": "base",
   "language": "python",
   "name": "python3"
  },
  "language_info": {
   "codemirror_mode": {
    "name": "ipython",
    "version": 3
   },
   "file_extension": ".py",
   "mimetype": "text/x-python",
   "name": "python",
   "nbconvert_exporter": "python",
   "pygments_lexer": "ipython3",
   "version": "3.10.13"
  }
 },
 "nbformat": 4,
 "nbformat_minor": 2
}
