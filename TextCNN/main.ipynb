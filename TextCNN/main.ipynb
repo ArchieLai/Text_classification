{
 "cells": [
  {
   "cell_type": "code",
   "execution_count": 1,
   "metadata": {},
   "outputs": [],
   "source": [
    "import matplotlib.pyplot as plt\n",
    "import numpy as np\n",
    "import torch\n",
    "import torchinfo\n",
    "from sklearn.model_selection import train_test_split\n",
    "from torch import nn\n",
    "from torch.utils.data import DataLoader\n",
    "from torchtext.data.utils import get_tokenizer\n",
    "from tqdm import tqdm\n",
    "from torch.nn import functional as F\n",
    "from sklearn.metrics import accuracy_score, precision_score, recall_score, f1_score\n",
    "from loadData import MovieReviews\n",
    "import gensim.downloader\n"
   ]
  },
  {
   "cell_type": "code",
   "execution_count": null,
   "metadata": {},
   "outputs": [],
   "source": [
    "# setting hyperparameters\n",
    "batch_size = 32\n",
    "valid_size=0.3 # validation + testing\n",
    "test_size=0.5 # tesing / (testing+validation)\n",
    "learning_rate = 0.001\n",
    "weight_decay = 0.0001\n",
    "epoch = 20\n",
    "seed = 42\n",
    "if torch.cuda.is_available():\n",
    "    device = torch.device('cuda')\n",
    "else:\n",
    "    device=torch.device('cpu')\n",
    "\n",
    "tokenizer = get_tokenizer(\"basic_english\")\n",
    "glove_vectors = gensim.downloader.load('glove-twitter-25')\n",
    "unknown_vector = torch.randn(glove_vectors.vector_size)\n",
    "max_length = 40\n",
    "embed_dim = 25\n",
    "label_size = 2\n",
    "\n",
    "print(torch.__version__)\n",
    "print(device)"
   ]
  },
  {
   "cell_type": "code",
   "execution_count": 3,
   "metadata": {},
   "outputs": [],
   "source": [
    "# data loading\n",
    "df = MovieReviews()\n",
    "train_data, temp_data = train_test_split(df, test_size=valid_size, random_state=seed)\n",
    "val_data, test_data = train_test_split(temp_data, test_size=test_size, random_state=seed)"
   ]
  },
  {
   "cell_type": "code",
   "execution_count": 4,
   "metadata": {},
   "outputs": [],
   "source": [
    "def text_transform(sentence):\n",
    "    sentence_embedding = []\n",
    "    for word in sentence:\n",
    "        try:\n",
    "            sentence_embedding.append(torch.tensor(glove_vectors[word]))\n",
    "        except KeyError:\n",
    "            sentence_embedding.append(torch.tensor(unknown_vector))\n",
    "    sentence_embedding = torch.stack((sentence_embedding))\n",
    "    padded_embedding = torch.nn.functional.pad(sentence_embedding, (0, 0, 0, max_length - sentence_embedding.size(0)), mode='constant', value=0)\n",
    "    return padded_embedding\n",
    "\n",
    "def collate_fn(batch: np.ndarray):\n",
    "    text_placeholder, label_placeholder = [], []\n",
    "\n",
    "    for text, label in batch:\n",
    "        text = tokenizer(text)\n",
    "        text = text_transform(text) # shape: [max_len, embed_dim]\n",
    "        text_placeholder.append(text)\n",
    "        label_placeholder.append(label)\n",
    "\n",
    "    return torch.stack(text_placeholder), torch.Tensor(label_placeholder)"
   ]
  },
  {
   "cell_type": "code",
   "execution_count": 5,
   "metadata": {},
   "outputs": [],
   "source": [
    "# DataLoader\n",
    "train_iter = DataLoader(\n",
    "    train_data.to_numpy(),\n",
    "    batch_size=batch_size,\n",
    "    collate_fn=collate_fn,\n",
    "    shuffle=True,\n",
    "    drop_last=True,\n",
    ")\n",
    "test_iter = DataLoader(\n",
    "    test_data.to_numpy(),\n",
    "    batch_size=batch_size,\n",
    "    collate_fn=collate_fn,\n",
    "    shuffle=False           #　don't shuffle to check answer with original data\n",
    ")\n",
    "val_iter = DataLoader(\n",
    "    val_data.to_numpy(),\n",
    "    batch_size=batch_size,\n",
    "    collate_fn=collate_fn,\n",
    "    shuffle=True\n",
    ")"
   ]
  },
  {
   "cell_type": "code",
   "execution_count": 6,
   "metadata": {},
   "outputs": [],
   "source": [
    "# model\n",
    "class TextCNN(nn.Module):\n",
    "    def __init__(\n",
    "        self,\n",
    "        embed_dim: int,\n",
    "        label_size: int,\n",
    "        out_chaennels: int,\n",
    "        kernel_size: list[int] = [2, 3, 4],\n",
    "    ):\n",
    "        super(TextCNN, self).__init__()\n",
    "        \n",
    "        self.convs = nn.ModuleList(\n",
    "            [\n",
    "                nn.Sequential(nn.Conv2d(1, out_chaennels, (kernel, embed_dim)), nn.LeakyReLU())\n",
    "                for kernel in kernel_size\n",
    "            ]\n",
    "        )\n",
    "        self.fc = nn.Linear(out_chaennels * len(kernel_size), label_size)\n",
    "        self.dropout = nn.Dropout(p=0.5)\n",
    "\n",
    "    def forward(self, x: torch.Tensor) -> torch.Tensor:\n",
    "        # Batch_size, 1, Seq_len, embed_dim\n",
    "        y = x.unsqueeze(1) \n",
    "        # Batch_size, filter_number, Width\n",
    "        ys = [conv(y).squeeze(3) for conv in self.convs]        \n",
    "        # Batch_size, filter_number\n",
    "        ys = [F.max_pool1d(y, y.size(2)).squeeze(2) for y in ys] \n",
    "\n",
    "        y = torch.cat(ys, 1)  # Combine outputs from different kernels; \n",
    "        y = self.dropout(y) \n",
    "        y = self.fc(y)       \n",
    "        return y"
   ]
  },
  {
   "cell_type": "code",
   "execution_count": 8,
   "metadata": {},
   "outputs": [
    {
     "data": {
      "text/plain": [
       "=================================================================\n",
       "Layer (type:depth-idx)                   Param #\n",
       "=================================================================\n",
       "TextCNN                                  --\n",
       "├─ModuleList: 1-1                        --\n",
       "│    └─Sequential: 2-1                   --\n",
       "│    │    └─Conv2d: 3-1                  1,632\n",
       "│    │    └─LeakyReLU: 3-2               --\n",
       "│    └─Sequential: 2-2                   --\n",
       "│    │    └─Conv2d: 3-3                  2,432\n",
       "│    │    └─LeakyReLU: 3-4               --\n",
       "│    └─Sequential: 2-3                   --\n",
       "│    │    └─Conv2d: 3-5                  3,232\n",
       "│    │    └─LeakyReLU: 3-6               --\n",
       "├─Linear: 1-2                            194\n",
       "├─Dropout: 1-3                           --\n",
       "=================================================================\n",
       "Total params: 7,490\n",
       "Trainable params: 7,490\n",
       "Non-trainable params: 0\n",
       "================================================================="
      ]
     },
     "execution_count": 8,
     "metadata": {},
     "output_type": "execute_result"
    }
   ],
   "source": [
    "model = TextCNN(embed_dim=embed_dim, label_size=label_size, out_chaennels=32).to(device)\n",
    "print(torchinfo.summary(model))"
   ]
  },
  {
   "cell_type": "markdown",
   "metadata": {},
   "source": [
    "train"
   ]
  },
  {
   "cell_type": "code",
   "execution_count": 9,
   "metadata": {},
   "outputs": [],
   "source": [
    "criterion = nn.CrossEntropyLoss()\n",
    "optimizer = torch.optim.Adam(model.parameters(), lr=learning_rate, weight_decay=weight_decay)"
   ]
  },
  {
   "cell_type": "code",
   "execution_count": null,
   "metadata": {},
   "outputs": [],
   "source": [
    "model.train()\n",
    "training_loss = []\n",
    "valid_loss = []\n",
    "training_accuracy = []\n",
    "valid_accuracy = []\n",
    "\n",
    "for e in range(epoch):\n",
    "    correct = 0 # for train_accuracy\n",
    "    for text, label in tqdm(train_iter):\n",
    "        optimizer.zero_grad()\n",
    "        text = text.to(device)\n",
    "        label = label.to(device)\n",
    "        output = model(text)\n",
    "        loss = criterion(output, label.long())\n",
    "        loss.backward()\n",
    "        optimizer.step()\n",
    "\n",
    "        # Calculate training accuracy\n",
    "        preds = torch.argmax(output, dim=1)\n",
    "        correct += (preds == label).sum().item()\n",
    "        \n",
    "    training_accuracy.append(correct / len(train_iter.dataset))\n",
    "    training_loss.append(loss.item())\n",
    "    print(f'Epoch [{e+1}/{epoch}], Training_Loss: {loss.item():.4f}')\n",
    "\n",
    "    # Validation\n",
    "    num_correct = 0 # for valid_accuracy\n",
    "    model.eval()\n",
    "    val_loss = 0.0\n",
    "    for x, y in val_iter:\n",
    "        preds = model(x)\n",
    "        loss = criterion(preds, y.long())\n",
    "        val_loss += loss.item()\n",
    "        num_correct += (torch.argmax(preds, dim=1) == y).sum().item()\n",
    "    \n",
    "    valid_accuracy.append(num_correct / len(val_iter.dataset))\n",
    "    val_loss /= len(val_iter)\n",
    "    valid_loss.append(val_loss)\n",
    "    print(f'Validation loss: {val_loss:.4f}')"
   ]
  },
  {
   "cell_type": "code",
   "execution_count": null,
   "metadata": {},
   "outputs": [],
   "source": [
    "plt.plot(training_loss, 'b', valid_loss, 'r')"
   ]
  },
  {
   "cell_type": "code",
   "execution_count": null,
   "metadata": {},
   "outputs": [],
   "source": [
    "plt.plot(training_accuracy, 'b', valid_accuracy, 'r')"
   ]
  },
  {
   "cell_type": "code",
   "execution_count": null,
   "metadata": {},
   "outputs": [],
   "source": [
    "model.eval()\n",
    "preds = []\n",
    "labels = []\n",
    "with torch.no_grad():\n",
    "    running_hit = 0.0\n",
    "\n",
    "    for text, label in tqdm(test_iter):\n",
    "        text = text.to(device)\n",
    "        label = label.to(device)\n",
    "\n",
    "        output = model(text)\n",
    "        pred = output.argmax(dim=1)\n",
    "        labels.append(label)\n",
    "        preds.append(pred)\n",
    "    preds_cat = torch.cat(preds)\n",
    "    labels_cat = torch.cat(labels)\n",
    "    \n",
    "    accuracy = accuracy_score(preds_cat, labels_cat)\n",
    "    precision = precision_score(preds_cat, labels_cat)\n",
    "    recall = recall_score(preds_cat, labels_cat)\n",
    "    f1 = f1_score(preds_cat, labels_cat)\n",
    "    print(f'Test Accuracy: {accuracy * 100:.2f}%')\n",
    "    print(f'Test Precision: {precision * 100:.2f}%')\n",
    "    print(f'Test Recall: {recall * 100:.2f}%')\n",
    "    print(f'Test F1 Score: {f1 * 100:.2f}%')"
   ]
  },
  {
   "cell_type": "code",
   "execution_count": 22,
   "metadata": {},
   "outputs": [],
   "source": [
    "# Save the model if needed\n",
    "# torch.save(model.state_dict(), 'TextCNN.pth')"
   ]
  },
  {
   "cell_type": "code",
   "execution_count": 23,
   "metadata": {},
   "outputs": [],
   "source": [
    "# Instantiate the model\n",
    "# model = TextCNN(vocab_size, 32, label_size, padding_idx=padding_idx)\n",
    "\n",
    "# Load the saved state dictionary\n",
    "# model_path = 'TextCNN.pth'\n",
    "# model_state_dict = torch.load(model_path)\n",
    "\n",
    "# Load the state dictionary into the model\n",
    "# model.load_state_dict(model_state_dict)"
   ]
  }
 ],
 "metadata": {
  "kernelspec": {
   "display_name": "base",
   "language": "python",
   "name": "python3"
  },
  "language_info": {
   "codemirror_mode": {
    "name": "ipython",
    "version": 3
   },
   "file_extension": ".py",
   "mimetype": "text/x-python",
   "name": "python",
   "nbconvert_exporter": "python",
   "pygments_lexer": "ipython3",
   "version": "3.9.13"
  }
 },
 "nbformat": 4,
 "nbformat_minor": 2
}
