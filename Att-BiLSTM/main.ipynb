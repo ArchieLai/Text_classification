{
 "cells": [
  {
   "cell_type": "code",
   "execution_count": 1,
   "metadata": {},
   "outputs": [],
   "source": [
    "import matplotlib.pyplot as plt\n",
    "import numpy as np\n",
    "import torch\n",
    "import torchinfo\n",
    "from sklearn.model_selection import train_test_split\n",
    "from torch import nn, Tensor\n",
    "from torch.utils.data import DataLoader\n",
    "from torchtext.data.utils import get_tokenizer\n",
    "import torchtext.transforms as T\n",
    "from torchtext.vocab import build_vocab_from_iterator\n",
    "from tqdm import tqdm\n",
    "from torch.nn import functional as F\n",
    "from sklearn.metrics import accuracy_score, precision_score, recall_score, f1_score\n",
    "import gensim.downloader\n",
    "import sys \n",
    "sys.path.append('..')\n",
    "from data.loadData import MovieReviews"
   ]
  },
  {
   "cell_type": "code",
   "execution_count": 2,
   "metadata": {},
   "outputs": [
    {
     "name": "stdout",
     "output_type": "stream",
     "text": [
      "2.1.2\n",
      "cpu\n"
     ]
    }
   ],
   "source": [
    "# setting hyperparameters\n",
    "batch_size = 32\n",
    "valid_size=0.3 # validation + testing\n",
    "test_size=0.5 # tesing / (testing+validation)\n",
    "learning_rate = 0.001\n",
    "weight_decay = 0.0005\n",
    "dropout = 0.5\n",
    "epoch = 10\n",
    "seed = 42\n",
    "if torch.cuda.is_available():\n",
    "    device = torch.device('cuda')\n",
    "else:\n",
    "    device=torch.device('cpu')\n",
    "\n",
    "tokenizer = get_tokenizer(\"basic_english\")\n",
    "glove_vectors = gensim.downloader.load('glove-twitter-25')\n",
    "unknown_vector = torch.randn(glove_vectors.vector_size)\n",
    "max_length = 40\n",
    "embed_dim = 25\n",
    "label_size = 2\n",
    "min_frequency = 5\n",
    "unk_token = '<unk>'\n",
    "bos_token = '<bos>'\n",
    "eos_token = '<eos>'\n",
    "pad_token= '<pad>'\n",
    "unk_idx = 0\n",
    "bos_idx = 1\n",
    "eos_idx = 2\n",
    "padding_idx = 3\n",
    "\n",
    "print(torch.__version__)\n",
    "print(device)"
   ]
  },
  {
   "cell_type": "code",
   "execution_count": 3,
   "metadata": {},
   "outputs": [],
   "source": [
    "# data loading\n",
    "df = MovieReviews()\n",
    "train_data, temp_data = train_test_split(df, test_size=valid_size, random_state=seed)\n",
    "val_data, test_data = train_test_split(temp_data, test_size=test_size, random_state=seed)"
   ]
  },
  {
   "cell_type": "code",
   "execution_count": 4,
   "metadata": {},
   "outputs": [],
   "source": [
    "vocab = build_vocab_from_iterator(\n",
    "    train_data[\"text\"].str.split(),\n",
    "    min_freq=min_frequency,\n",
    "    specials=[unk_token, eos_token, bos_token, pad_token],\n",
    "    #  Special symbols to add. The order of supplied tokens will be preserved.\n",
    ")\n",
    "vocab.set_default_index(vocab[unk_token])"
   ]
  },
  {
   "cell_type": "code",
   "execution_count": 5,
   "metadata": {},
   "outputs": [],
   "source": [
    "text_transform = T.Sequential(                  # chaining multiple text transformations\n",
    "    T.VocabTransform(vocab),                    # convert input batch of tokens into corresponding token ids\n",
    "    T.Truncate(max_length - 2),                 # Truncate input sequence\n",
    "    T.AddToken(token=bos_idx, begin=True),      # Add token to beginning or end of sequence\n",
    "    T.AddToken(token=eos_idx, begin=False),\n",
    "    T.ToTensor(),                               # Convert input to torch tensor\n",
    "    T.PadTransform(max_length, padding_idx),    # Pad tensor to a fixed length with given padding value.\n",
    ")\n",
    "\n",
    "def collate_fn(batch: np.ndarray):\n",
    "    text_placeholder, label_placeholder = [], []\n",
    "\n",
    "    for text, label in batch:\n",
    "        text = tokenizer(text)\n",
    "        text = text_transform(text) # shape: [max_len, embed_dim]\n",
    "        text_placeholder.append(text)\n",
    "        label_placeholder.append(label)\n",
    "\n",
    "    return torch.stack(text_placeholder), torch.Tensor(label_placeholder)"
   ]
  },
  {
   "cell_type": "code",
   "execution_count": 6,
   "metadata": {},
   "outputs": [],
   "source": [
    "# DataLoader\n",
    "train_iter = DataLoader(\n",
    "    train_data.to_numpy(),\n",
    "    batch_size=batch_size,\n",
    "    collate_fn=collate_fn,\n",
    "    shuffle=True,\n",
    "    drop_last=True,\n",
    ")\n",
    "test_iter = DataLoader(\n",
    "    test_data.to_numpy(),\n",
    "    batch_size=batch_size,\n",
    "    collate_fn=collate_fn,\n",
    "    shuffle=False           #　don't shuffle to check answer with original data\n",
    ")\n",
    "val_iter = DataLoader(\n",
    "    val_data.to_numpy(),\n",
    "    batch_size=batch_size,\n",
    "    collate_fn=collate_fn,\n",
    "    shuffle=True\n",
    ")"
   ]
  },
  {
   "cell_type": "code",
   "execution_count": 7,
   "metadata": {},
   "outputs": [],
   "source": [
    "vocab_to_index = vocab.get_stoi()\n",
    "vocab_size = len(vocab_to_index)\n",
    "embeds = torch.randn(vocab_size, embed_dim)\n",
    "\n",
    "for word, index in vocab_to_index.items():\n",
    "    if word in glove_vectors:\n",
    "        embeds[index] = torch.tensor(glove_vectors[word])"
   ]
  },
  {
   "cell_type": "code",
   "execution_count": 20,
   "metadata": {},
   "outputs": [],
   "source": [
    "def generate_random_context(batchsize, seq_len, embedding_dim):\n",
    "\n",
    "    context = torch.randn(batchsize, seq_len, embedding_dim) \n",
    "    return context"
   ]
  },
  {
   "cell_type": "code",
   "execution_count": 42,
   "metadata": {},
   "outputs": [],
   "source": [
    "# model\n",
    "class Attention(nn.Module):\n",
    "  def __init__(self, d_model):\n",
    "    super(Attention, self).__init__()\n",
    "    self.score = nn.Linear(d_model, 1, bias=False)\n",
    "    self.softmax = nn.Softmax(dim=1)\n",
    "\n",
    "  def forward(self, x):\n",
    "    # (batch_size, seq_len, d_model)\n",
    "    scores = self.score(x)\n",
    "    # (batch_size, 1, seq_len)\n",
    "    weights = self.softmax(scores.transpose(1, 2))\n",
    "    # (batch_size, 1, seq_len) * (batch_size, seq_len, d_model) -> (batch_size, 1, d_model)\n",
    "    context = torch.bmm(weights, x) # batch matrix-matrix product\n",
    "    return context\n",
    "\n",
    "class TextClassifier(nn.Module):\n",
    "  def __init__(self, embed_dim, label_size, d_model=128, dropout=0.5, weight_decay=0.0001):\n",
    "    super(TextClassifier, self).__init__()\n",
    "    self.embedding = nn.Embedding.from_pretrained(embeds, freeze=False)\n",
    "    self.lstm = nn.LSTM(embed_dim, d_model)\n",
    "    self.attention = Attention(d_model)\n",
    "    self.dropout = nn.Dropout(dropout)\n",
    "    self.fc = nn.Linear(d_model, label_size)\n",
    "\n",
    "  def forward(self, x):\n",
    "    # (batch_size, seq_len)\n",
    "    x = self.embedding(x)\n",
    "    x = self.dropout(x)\n",
    "    # (batch_size, seq_len, embed_dim)\n",
    "    x, _ = self.lstm(x)\n",
    "    x = self.dropout(x)\n",
    "    # (batch_size, seq_len, d_model)\n",
    "    context = self.attention(x)\n",
    "    # (batch_size, 1, d_model)\n",
    "    output = self.fc(context.squeeze(1))\n",
    "    # (batch_size, label_size)\n",
    "    return output"
   ]
  },
  {
   "cell_type": "code",
   "execution_count": 43,
   "metadata": {},
   "outputs": [
    {
     "name": "stdout",
     "output_type": "stream",
     "text": [
      "=================================================================\n",
      "Layer (type:depth-idx)                   Param #\n",
      "=================================================================\n",
      "TextClassifier                           --\n",
      "├─Embedding: 1-1                         83,050\n",
      "├─LSTM: 1-2                              79,360\n",
      "├─Attention: 1-3                         --\n",
      "│    └─Linear: 2-1                       128\n",
      "│    └─Softmax: 2-2                      --\n",
      "├─Dropout: 1-4                           --\n",
      "├─Linear: 1-5                            258\n",
      "=================================================================\n",
      "Total params: 162,796\n",
      "Trainable params: 162,796\n",
      "Non-trainable params: 0\n",
      "=================================================================\n"
     ]
    }
   ],
   "source": [
    "model = TextClassifier(embed_dim=embed_dim, label_size=label_size, weight_decay=weight_decay, dropout=dropout).to(device)\n",
    "print(torchinfo.summary(model))"
   ]
  },
  {
   "cell_type": "markdown",
   "metadata": {},
   "source": [
    "train"
   ]
  },
  {
   "cell_type": "code",
   "execution_count": 44,
   "metadata": {},
   "outputs": [],
   "source": [
    "criterion = nn.CrossEntropyLoss()\n",
    "optimizer = torch.optim.Adam(model.parameters(), lr=learning_rate, weight_decay=weight_decay)"
   ]
  },
  {
   "cell_type": "code",
   "execution_count": 45,
   "metadata": {},
   "outputs": [
    {
     "name": "stderr",
     "output_type": "stream",
     "text": [
      "100%|██████████| 233/233 [00:04<00:00, 54.09it/s]\n"
     ]
    },
    {
     "name": "stdout",
     "output_type": "stream",
     "text": [
      "Epoch [1/10], Training_Loss: 0.6061\n",
      "Validation loss: 0.6396\n"
     ]
    },
    {
     "name": "stderr",
     "output_type": "stream",
     "text": [
      "100%|██████████| 233/233 [00:03<00:00, 65.92it/s]\n"
     ]
    },
    {
     "name": "stdout",
     "output_type": "stream",
     "text": [
      "Epoch [2/10], Training_Loss: 0.5392\n",
      "Validation loss: 0.6267\n"
     ]
    },
    {
     "name": "stderr",
     "output_type": "stream",
     "text": [
      "100%|██████████| 233/233 [00:03<00:00, 66.12it/s]\n"
     ]
    },
    {
     "name": "stdout",
     "output_type": "stream",
     "text": [
      "Epoch [3/10], Training_Loss: 0.5385\n",
      "Validation loss: 0.6245\n"
     ]
    },
    {
     "name": "stderr",
     "output_type": "stream",
     "text": [
      "100%|██████████| 233/233 [00:03<00:00, 66.50it/s]\n"
     ]
    },
    {
     "name": "stdout",
     "output_type": "stream",
     "text": [
      "Epoch [4/10], Training_Loss: 0.3708\n",
      "Validation loss: 0.5885\n"
     ]
    },
    {
     "name": "stderr",
     "output_type": "stream",
     "text": [
      "100%|██████████| 233/233 [00:03<00:00, 67.63it/s]\n"
     ]
    },
    {
     "name": "stdout",
     "output_type": "stream",
     "text": [
      "Epoch [5/10], Training_Loss: 0.3318\n",
      "Validation loss: 0.6238\n"
     ]
    },
    {
     "name": "stderr",
     "output_type": "stream",
     "text": [
      "100%|██████████| 233/233 [00:03<00:00, 67.79it/s]\n"
     ]
    },
    {
     "name": "stdout",
     "output_type": "stream",
     "text": [
      "Epoch [6/10], Training_Loss: 0.4231\n",
      "Validation loss: 0.7038\n"
     ]
    },
    {
     "name": "stderr",
     "output_type": "stream",
     "text": [
      "100%|██████████| 233/233 [00:03<00:00, 68.24it/s]\n"
     ]
    },
    {
     "name": "stdout",
     "output_type": "stream",
     "text": [
      "Epoch [7/10], Training_Loss: 0.2868\n",
      "Validation loss: 0.6652\n"
     ]
    },
    {
     "name": "stderr",
     "output_type": "stream",
     "text": [
      "100%|██████████| 233/233 [00:03<00:00, 68.48it/s]\n"
     ]
    },
    {
     "name": "stdout",
     "output_type": "stream",
     "text": [
      "Epoch [8/10], Training_Loss: 0.2854\n",
      "Validation loss: 0.6849\n"
     ]
    },
    {
     "name": "stderr",
     "output_type": "stream",
     "text": [
      "100%|██████████| 233/233 [00:03<00:00, 68.84it/s]\n"
     ]
    },
    {
     "name": "stdout",
     "output_type": "stream",
     "text": [
      "Epoch [9/10], Training_Loss: 0.1987\n",
      "Validation loss: 0.7012\n"
     ]
    },
    {
     "name": "stderr",
     "output_type": "stream",
     "text": [
      "100%|██████████| 233/233 [00:03<00:00, 69.08it/s]\n"
     ]
    },
    {
     "name": "stdout",
     "output_type": "stream",
     "text": [
      "Epoch [10/10], Training_Loss: 0.4566\n",
      "Validation loss: 0.7325\n"
     ]
    }
   ],
   "source": [
    "model.train()\n",
    "training_loss = []\n",
    "valid_loss = []\n",
    "training_accuracy = []\n",
    "valid_accuracy = []\n",
    "\n",
    "for e in range(epoch):\n",
    "    correct = 0 # for train_accuracy\n",
    "    for text, label in tqdm(train_iter):\n",
    "        optimizer.zero_grad()\n",
    "        text = text.to(device)\n",
    "        label = label.to(device)\n",
    "        output = model(text)\n",
    "        loss = criterion(output, label.long())\n",
    "        loss.backward()\n",
    "        optimizer.step()\n",
    "\n",
    "        # Calculate training accuracy\n",
    "        preds = torch.argmax(output, dim=1)\n",
    "        correct += (preds == label).sum().item()\n",
    "        \n",
    "    training_accuracy.append(correct / len(train_iter.dataset))\n",
    "    training_loss.append(loss.item())\n",
    "    print(f'Epoch [{e+1}/{epoch}], Training_Loss: {loss.item():.4f}')\n",
    "\n",
    "    # Validation\n",
    "    num_correct = 0 # for valid_accuracy\n",
    "    model.eval()\n",
    "    val_loss = 0.0\n",
    "    for x, y in val_iter:\n",
    "        y = y.to(device)\n",
    "        preds = model(x.to(device))\n",
    "        loss = criterion(preds, y.long().to(device))\n",
    "        val_loss += loss.item()\n",
    "        num_correct += (torch.argmax(preds, dim=1) == y).sum().item()\n",
    "    \n",
    "    valid_accuracy.append(num_correct / len(val_iter.dataset))\n",
    "    val_loss /= len(val_iter)\n",
    "    valid_loss.append(val_loss)\n",
    "    print(f'Validation loss: {val_loss:.4f}')"
   ]
  },
  {
   "cell_type": "code",
   "execution_count": 46,
   "metadata": {},
   "outputs": [
    {
     "data": {
      "text/plain": [
       "[<matplotlib.lines.Line2D at 0x29ee66760>,\n",
       " <matplotlib.lines.Line2D at 0x29ee66790>]"
      ]
     },
     "execution_count": 46,
     "metadata": {},
     "output_type": "execute_result"
    },
    {
     "data": {
      "image/png": "[encoded data removed]",
      "text/plain": [
       "<Figure size 640x480 with 1 Axes>"
      ]
     },
     "metadata": {},
     "output_type": "display_data"
    }
   ],
   "source": [
    "plt.plot(training_loss, 'b', valid_loss, 'r')"
   ]
  },
  {
   "cell_type": "code",
   "execution_count": 47,
   "metadata": {},
   "outputs": [
    {
     "data": {
      "text/plain": [
       "[<matplotlib.lines.Line2D at 0x29e425f10>,\n",
       " <matplotlib.lines.Line2D at 0x29e425f40>]"
      ]
     },
     "execution_count": 47,
     "metadata": {},
     "output_type": "execute_result"
    },
    {
     "data": {
      "image/png": "[encoded data removed]",
      "text/plain": [
       "<Figure size 640x480 with 1 Axes>"
      ]
     },
     "metadata": {},
     "output_type": "display_data"
    }
   ],
   "source": [
    "plt.plot(training_accuracy, 'b', valid_accuracy, 'r')"
   ]
  },
  {
   "cell_type": "code",
   "execution_count": 48,
   "metadata": {},
   "outputs": [
    {
     "name": "stderr",
     "output_type": "stream",
     "text": [
      "100%|██████████| 50/50 [00:00<00:00, 137.14it/s]"
     ]
    },
    {
     "name": "stdout",
     "output_type": "stream",
     "text": [
      "Test Accuracy: 73.88%\n",
      "Test Precision: 75.38%\n",
      "Test Recall: 73.18%\n",
      "Test F1 Score: 74.26%\n"
     ]
    },
    {
     "name": "stderr",
     "output_type": "stream",
     "text": [
      "\n"
     ]
    }
   ],
   "source": [
    "model.eval()\n",
    "preds = []\n",
    "labels = []\n",
    "with torch.no_grad():\n",
    "    running_hit = 0.0\n",
    "\n",
    "    for text, label in tqdm(test_iter):\n",
    "        text = text.to(device)\n",
    "        label = label.to(device)\n",
    "\n",
    "        output = model(text)\n",
    "        pred = output.argmax(dim=1)\n",
    "        labels.append(label)\n",
    "        preds.append(pred)\n",
    "    preds_cat = torch.cat(preds).to('cpu')\n",
    "    labels_cat = torch.cat(labels).to('cpu')\n",
    "    \n",
    "    accuracy = accuracy_score(preds_cat, labels_cat)\n",
    "    precision = precision_score(preds_cat, labels_cat)\n",
    "    recall = recall_score(preds_cat, labels_cat)\n",
    "    f1 = f1_score(preds_cat, labels_cat)\n",
    "    print(f'Test Accuracy: {accuracy * 100:.2f}%')\n",
    "    print(f'Test Precision: {precision * 100:.2f}%')\n",
    "    print(f'Test Recall: {recall * 100:.2f}%')\n",
    "    print(f'Test F1 Score: {f1 * 100:.2f}%')"
   ]
  },
  {
   "cell_type": "code",
   "execution_count": 49,
   "metadata": {},
   "outputs": [],
   "source": [
    "# Save the model if needed\n",
    "# torch.save(model.state_dict(), 'Att-BiLSTM.pth')"
   ]
  },
  {
   "cell_type": "code",
   "execution_count": 50,
   "metadata": {},
   "outputs": [],
   "source": [
    "# Instantiate the model\n",
    "# model = TextClassifier(vocab_size, 32, label_size, padding_idx=padding_idx)\n",
    "\n",
    "# Load the saved state dictionary\n",
    "# model_path = 'Att-BiLSTM.pth'\n",
    "# model_state_dict = torch.load(model_path)\n",
    "\n",
    "# Load the state dictionary into the model\n",
    "# model.load_state_dict(model_state_dict)"
   ]
  }
 ],
 "metadata": {
  "kernelspec": {
   "display_name": "base",
   "language": "python",
   "name": "python3"
  },
  "language_info": {
   "codemirror_mode": {
    "name": "ipython",
    "version": 3
   },
   "file_extension": ".py",
   "mimetype": "text/x-python",
   "name": "python",
   "nbconvert_exporter": "python",
   "pygments_lexer": "ipython3",
   "version": "3.9.13"
  }
 },
 "nbformat": 4,
 "nbformat_minor": 2
}
